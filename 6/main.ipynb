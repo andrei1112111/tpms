{
 "cells": [
  {
   "metadata": {},
   "cell_type": "markdown",
   "source": "# 1",
   "id": "ea63eb20a35f7b45"
  },
  {
   "cell_type": "code",
   "id": "initial_id",
   "metadata": {
    "collapsed": true,
    "ExecuteTime": {
     "end_time": "2024-12-19T07:47:53.036314Z",
     "start_time": "2024-12-19T07:47:53.027956Z"
    }
   },
   "source": [
    "import pandas as pd\n",
    "import numpy as np\n",
    "import scipy.stats as stats\n",
    "\n",
    "\n",
    "data = pd.read_csv('House_Price - House_Price.csv')"
   ],
   "outputs": [],
   "execution_count": 181
  },
  {
   "metadata": {
    "ExecuteTime": {
     "end_time": "2024-12-19T07:47:53.052380Z",
     "start_time": "2024-12-19T07:47:53.041276Z"
    }
   },
   "cell_type": "code",
   "source": [
    "# пропущенные значения\n",
    "data['n_hos_beds'] = data['n_hos_beds'].fillna(data['n_hos_beds'].median())\n",
    "data['waterbody'] = data['waterbody'].fillna('None')\n",
    "\n",
    "# One-hot кодирование\n",
    "data_encoded = pd.get_dummies(data, columns=['airport', 'waterbody', 'bus_ter'])\n",
    "\n",
    "# убираем признаки с низкой дисперсией и сильно коррелированные признаки\n",
    "data_encoded = data_encoded.drop(columns=['parks', 'bus_ter_YES'])\n",
    "\n",
    "# применяем логарифмирование к 'crime_rate' и 'resid_area'\n",
    "data_encoded['log_crime_rate'] = np.log(data_encoded['crime_rate'] + 1)\n",
    "data_encoded['log_resid_area'] = np.log(data_encoded['resid_area'] + 1)\n",
    "\n",
    "# рассчитываем корреляцию между признаками\n",
    "corr_matrix = data_encoded.corr()\n",
    "threshold = 0.9\n",
    "high_corr_vars = (corr_matrix.abs() > threshold) & (corr_matrix.abs() != 1)\n",
    "\n",
    "# Удаляем сильно коррелированные признаки\n",
    "high_corr_columns = [column for column in high_corr_vars.columns if any(high_corr_vars[column])]\n",
    "data_encoded = data_encoded.drop(columns=high_corr_columns)"
   ],
   "id": "54323fcd8984e38a",
   "outputs": [],
   "execution_count": 182
  },
  {
   "metadata": {},
   "cell_type": "markdown",
   "source": "# 2",
   "id": "570fa0c20e4fb828"
  },
  {
   "metadata": {
    "ExecuteTime": {
     "end_time": "2024-12-19T07:47:53.085883Z",
     "start_time": "2024-12-19T07:47:53.082813Z"
    }
   },
   "cell_type": "code",
   "source": [
    "def significance_test(beta_hat, X, sigma_squared, s_index):\n",
    "    # Матрица X^T X\n",
    "    X_transpose_X = X.T @ X\n",
    "\n",
    "    # Матрица ковариации коэффициентов beta (sigma^2 * (X^T X)^-1)\n",
    "    covariance_matrix = sigma_squared * np.linalg.inv(X_transpose_X)\n",
    "\n",
    "    # Дисперсия коэффициента beta s (с использованием матрицы ковариации)\n",
    "    variance_beta_s = covariance_matrix[s_index, s_index]\n",
    "\n",
    "    # Стандартизация коэффициента beta s\n",
    "    standardized_beta_s = beta_hat[s_index] / np.sqrt(variance_beta_s)\n",
    "\n",
    "    # Для двухстороннего теста, используем нормальное распределение\n",
    "    p_value = 2 * (1 - stats.norm.cdf(np.abs(standardized_beta_s)))\n",
    "\n",
    "    return standardized_beta_s, p_value"
   ],
   "id": "ae31103ea5c986d5",
   "outputs": [],
   "execution_count": 183
  },
  {
   "metadata": {
    "ExecuteTime": {
     "end_time": "2024-12-19T07:47:53.127215Z",
     "start_time": "2024-12-19T07:47:53.117542Z"
    }
   },
   "cell_type": "code",
   "source": [
    "def linear_regression_with_test(target, features_scaled):\n",
    "\n",
    "    # Добавляем столбец единичных значений для константы (intercept)\n",
    "    X = np.c_[np.ones(features_scaled.shape[0]), features_scaled.values]  # Добавляем столбец с единицами в начало\n",
    "    y = target.values.reshape(-1, 1)  # Преобразуем целевую переменную в столбец\n",
    "\n",
    "    # Вычисление beta = (X^T X)^(-1) X^T y\n",
    "    X_transpose = X.T\n",
    "    try:\n",
    "        XTX_inv = np.linalg.inv(X_transpose @ X)\n",
    "        beta_hat = XTX_inv @ X_transpose @ y\n",
    "    except np.linalg.LinAlgError:\n",
    "        print(\"матрица X^T X вырождена\")\n",
    "        return None, None, None, None\n",
    "\n",
    "    # предсказания\n",
    "    y_hat = X @ beta_hat\n",
    "\n",
    "    # ошибоки\n",
    "    residuals = y - y_hat\n",
    "\n",
    "    # дисперсия ошибок (sigma^2) = (sum epsilon_i^2) / (n - k - 1)\n",
    "    n = X.shape[0]\n",
    "    k = X.shape[1] - 1\n",
    "    sigma_squared = np.sum(residuals**2) / (n - k - 1)\n",
    "\n",
    "    # тест на значимость для каждого коэффициента\n",
    "    results = []\n",
    "    for s_index in range(beta_hat.shape[0]):\n",
    "        standardized_beta_s, p_value = significance_test(beta_hat, X, sigma_squared, s_index)\n",
    "        results.append((standardized_beta_s, p_value))\n",
    "\n",
    "    return beta_hat, y_hat, residuals, sigma_squared, results\n",
    "\n",
    "\n",
    "\n",
    "# стандартизация признаков\n",
    "features = data_encoded\n",
    "features_scaled = (features - features.mean()) / features.std()\n",
    "\n",
    "target = 'price'\n",
    "features_scaled.drop(columns=[target], inplace=True)\n",
    "target = data_encoded[target]\n",
    "\n",
    "\n",
    "beta_hat, y_hat, residuals, sigma_squared, significance_results = linear_regression_with_test(target, features_scaled)\n",
    "\n",
    "print(f\"Оценки коэффициентов линейной регрессии (β̂):\\n{beta_hat}\")\n",
    "print(f\"\\nПредсказания ̂y (первые 5):\\n{y_hat[:5]}\")\n",
    "print(f\"\\nОшибки (остатки) ̂epsilon (первые 5):\\n{residuals[:5]}\")\n",
    "print(f\"\\nОценка дисперсии ошибок (sigma^2): {sigma_squared}\")"
   ],
   "id": "a64d61f2369d7055",
   "outputs": [
    {
     "name": "stdout",
     "output_type": "stream",
     "text": [
      "Оценки коэффициентов линейной регрессии (β̂):\n",
      "[[ 22.52885375]\n",
      " [ -1.40154139]\n",
      " [ -1.34463635]\n",
      " [  3.03260646]\n",
      " [  0.99281323]\n",
      " [  2.14315733]\n",
      " [ -4.08212953]\n",
      " [  0.70123141]\n",
      " [  0.17793811]\n",
      " [  0.20773393]\n",
      " [-51.24377274]\n",
      " [-46.766023  ]\n",
      " [-57.70509037]\n",
      " [-64.85546399]\n",
      " [  1.48586126]]\n",
      "\n",
      "Предсказания ̂y (первые 5):\n",
      "[[25.32778737]\n",
      " [27.15144437]\n",
      " [40.7186025 ]\n",
      " [32.20734834]\n",
      " [31.77948879]]\n",
      "\n",
      "Ошибки (остатки) ̂ε (первые 5):\n",
      "[[-1.32778737]\n",
      " [-5.55144437]\n",
      " [-6.0186025 ]\n",
      " [ 1.19265166]\n",
      " [ 4.42051121]]\n",
      "\n",
      "Оценка дисперсии ошибок (σ^2): 43.8495873048517\n"
     ]
    }
   ],
   "execution_count": 184
  },
  {
   "metadata": {},
   "cell_type": "markdown",
   "source": "# 3",
   "id": "430a532acf248585"
  },
  {
   "metadata": {
    "ExecuteTime": {
     "end_time": "2024-12-19T07:47:53.161764Z",
     "start_time": "2024-12-19T07:47:53.157957Z"
    }
   },
   "cell_type": "code",
   "source": [
    "for i, (standardized_beta_s, p_value) in enumerate(significance_results):\n",
    "    print(f\"\\nКоэффициент beta_{i} стандартизированный: {standardized_beta_s}\")\n",
    "    print(f\"p-value: {p_value}\")"
   ],
   "id": "c9263cb3437c998f",
   "outputs": [
    {
     "name": "stdout",
     "output_type": "stream",
     "text": [
      "\n",
      "Коэффициент β̂_0 стандартизированный: [76.52997987]\n",
      "p-value: [0.]\n",
      "\n",
      "Коэффициент β̂_1 стандартизированный: [-2.56692821]\n",
      "p-value: [0.01026039]\n",
      "\n",
      "Коэффициент β̂_2 стандартизированный: [-2.3903407]\n",
      "p-value: [0.01683275]\n",
      "\n",
      "Коэффициент β̂_3 стандартизированный: [7.65178508]\n",
      "p-value: [1.97619698e-14]\n",
      "\n",
      "Коэффициент β̂_4 стандартизированный: [2.11354145]\n",
      "p-value: [0.03455445]\n",
      "\n",
      "Коэффициент β̂_5 стандартизированный: [6.15477757]\n",
      "p-value: [7.51829488e-10]\n",
      "\n",
      "Коэффициент β̂_6 стандартизированный: [-8.09374328]\n",
      "p-value: [6.66133815e-16]\n",
      "\n",
      "Коэффициент β̂_7 стандартизированный: [2.35291573]\n",
      "p-value: [0.01862685]\n",
      "\n",
      "Коэффициент β̂_8 стандартизированный: [0.60114105]\n",
      "p-value: [0.54774605]\n",
      "\n",
      "Коэффициент β̂_9 стандартизированный: [0.69557533]\n",
      "p-value: [0.48669482]\n",
      "\n",
      "Коэффициент β̂_10 стандартизированный: [-2.25204841e-06]\n",
      "p-value: [0.9999982]\n",
      "\n",
      "Коэффициент β̂_11 стандартизированный: [-2.32938236e-06]\n",
      "p-value: [0.99999814]\n",
      "\n",
      "Коэффициент β̂_12 стандартизированный: [-2.1656031e-06]\n",
      "p-value: [0.99999827]\n",
      "\n",
      "Коэффициент β̂_13 стандартизированный: [-2.33509154e-06]\n",
      "p-value: [0.99999814]\n",
      "\n",
      "Коэффициент β̂_14 стандартизированный: [1.99706775]\n",
      "p-value: [0.04581782]\n"
     ]
    }
   ],
   "execution_count": 185
  },
  {
   "metadata": {},
   "cell_type": "markdown",
   "source": "# 4",
   "id": "9582575738bedce5"
  },
  {
   "metadata": {
    "ExecuteTime": {
     "end_time": "2024-12-19T07:47:53.196914Z",
     "start_time": "2024-12-19T07:47:53.192683Z"
    }
   },
   "cell_type": "code",
   "source": [
    "def backward_elimination(data, target, predictors, significance_level=0.05):\n",
    "    data_encoded = pd.get_dummies(data, columns=[col for col in data.select_dtypes(include=['object']).columns])\n",
    "\n",
    "    # Стандартизируем признаки\n",
    "    features = data_encoded[predictors]\n",
    "    features_scaled = (features - features.mean()) / features.std()\n",
    "\n",
    "    # Выполняем начальную модель линейной регрессии\n",
    "    target = data_encoded[target]\n",
    "    beta_hat, y_hat, residuals, sigma_squared, significance_results = linear_regression_with_test(target, features_scaled)\n",
    "\n",
    "    while True:\n",
    "        # Находим переменную с наибольшим p-value\n",
    "        max_p_value = max(significance_results, key=lambda x: x[1])[1]\n",
    "\n",
    "        # Если p-value всех переменных меньше 0.05\n",
    "        if max_p_value < significance_level:\n",
    "            break\n",
    "\n",
    "        # Иначе исключаем переменную с наибольшим p-value\n",
    "        # Сначала получим индекс переменной с максимальным p-value\n",
    "        max_p_index = max(range(len(significance_results)), key=lambda i: significance_results[i][1])\n",
    "\n",
    "        # Извлекаем переменную с максимальным p-value\n",
    "        excluded_variable = predictors[max_p_index-1]\n",
    "\n",
    "        # Исключаем переменную с наибольшим p-value\n",
    "        predictors.remove(excluded_variable)\n",
    "\n",
    "        # Перезапускаем процесс с обновленным набором признаков\n",
    "        beta_hat, y_hat, residuals, sigma_squared, significance_results = linear_regression_with_test(target, features_scaled[predictors])\n",
    "\n",
    "    return predictors"
   ],
   "id": "a7865cdaf573c5d9",
   "outputs": [],
   "execution_count": 186
  },
  {
   "metadata": {
    "ExecuteTime": {
     "end_time": "2024-12-19T07:47:53.237059Z",
     "start_time": "2024-12-19T07:47:53.228040Z"
    }
   },
   "cell_type": "code",
   "source": [
    "target = 'price'\n",
    "predictors = ['crime_rate', 'resid_area', 'room_num', 'age', 'n_hos_beds', 'airport_YES', 'waterbody_Lake']\n",
    "\n",
    "significant_predictors = backward_elimination(data, target, predictors)\n",
    "\n",
    "print(f\"Значимые переменные после выполнения backward elimination:\\n{significant_predictors}\")"
   ],
   "id": "64f7c1e52315b545",
   "outputs": [
    {
     "name": "stdout",
     "output_type": "stream",
     "text": [
      "Значимые переменные после выполнения backward elimination:\n",
      "['crime_rate', 'resid_area', 'room_num', 'age', 'n_hos_beds', 'airport_YES']\n"
     ]
    }
   ],
   "execution_count": 187
  }
 ],
 "metadata": {
  "kernelspec": {
   "display_name": "Python 3",
   "language": "python",
   "name": "python3"
  },
  "language_info": {
   "codemirror_mode": {
    "name": "ipython",
    "version": 2
   },
   "file_extension": ".py",
   "mimetype": "text/x-python",
   "name": "python",
   "nbconvert_exporter": "python",
   "pygments_lexer": "ipython2",
   "version": "2.7.6"
  }
 },
 "nbformat": 4,
 "nbformat_minor": 5
}
